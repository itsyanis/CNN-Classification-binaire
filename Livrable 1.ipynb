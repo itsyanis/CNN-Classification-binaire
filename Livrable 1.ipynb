{
 "cells": [
  {
   "cell_type": "markdown",
   "id": "daea3fdf",
   "metadata": {},
   "source": [
    "### Importation des bibliothèques nécessaires"
   ]
  },
  {
   "cell_type": "code",
   "execution_count": 66,
   "id": "9a2fd3d6",
   "metadata": {},
   "outputs": [],
   "source": [
    "import os\n",
    "import numpy as np\n",
    "import pandas as pd\n",
    "import seaborn as sns\n",
    "import tensorflow as tf\n",
    "from PIL import Image\n",
    "from tensorflow import keras\n",
    "import matplotlib.pyplot as plt\n",
    "import matplotlib.pyplot as plt\n",
    "from tensorflow.keras import layers\n",
    "from tensorflow.keras.models import Sequential\n",
    "from tensorflow.keras.callbacks import EarlyStopping\n",
    "from tensorflow.keras.preprocessing.image import ImageDataGenerator"
   ]
  },
  {
   "cell_type": "code",
   "execution_count": 67,
   "id": "6ad4ff60",
   "metadata": {},
   "outputs": [],
   "source": [
    "# Path du dataset\n",
    "dataset_path = \"C:\\\\Users\\\\yanis\\\\OneDrive\\\\Bureau\\\\Liv1_dataset\""
   ]
  },
  {
   "cell_type": "markdown",
   "id": "4cdc46ec",
   "metadata": {},
   "source": [
    "#### Variables gobale"
   ]
  },
  {
   "cell_type": "code",
   "execution_count": 68,
   "id": "ec888297",
   "metadata": {},
   "outputs": [],
   "source": [
    "data_dir = dataset_path\n",
    "image_h = 180\n",
    "image_w = 180\n",
    "batch_s = 32\n",
    "epochs = 10"
   ]
  },
  {
   "cell_type": "markdown",
   "id": "1687c8e9",
   "metadata": {},
   "source": [
    "#### Collecte de données sur les images et création d'un DataFrame avec leurs caractéristiques"
   ]
  },
  {
   "cell_type": "code",
   "execution_count": 69,
   "id": "25c78bd3",
   "metadata": {},
   "outputs": [
    {
     "name": "stdout",
     "output_type": "stream",
     "text": [
      "Le dossier 'Painting' a été lu.\n",
      "Le dossier 'Photo' a été lu.\n",
      "Le dossier 'Schematics' a été lu.\n",
      "Le dossier 'Sketch' a été lu.\n",
      "Le dossier 'Text' a été lu.\n"
     ]
    },
    {
     "data": {
      "text/html": [
       "<div>\n",
       "<style scoped>\n",
       "    .dataframe tbody tr th:only-of-type {\n",
       "        vertical-align: middle;\n",
       "    }\n",
       "\n",
       "    .dataframe tbody tr th {\n",
       "        vertical-align: top;\n",
       "    }\n",
       "\n",
       "    .dataframe thead th {\n",
       "        text-align: right;\n",
       "    }\n",
       "</style>\n",
       "<table border=\"1\" class=\"dataframe\">\n",
       "  <thead>\n",
       "    <tr style=\"text-align: right;\">\n",
       "      <th></th>\n",
       "      <th>FileName</th>\n",
       "      <th>Width</th>\n",
       "      <th>Height</th>\n",
       "      <th>Mode</th>\n",
       "      <th>Category</th>\n",
       "    </tr>\n",
       "  </thead>\n",
       "  <tbody>\n",
       "    <tr>\n",
       "      <th>0</th>\n",
       "      <td>painting_00001.jpg</td>\n",
       "      <td>710.0</td>\n",
       "      <td>768.0</td>\n",
       "      <td>RGB</td>\n",
       "      <td>Painting</td>\n",
       "    </tr>\n",
       "    <tr>\n",
       "      <th>1</th>\n",
       "      <td>painting_00002.jpg</td>\n",
       "      <td>597.0</td>\n",
       "      <td>561.0</td>\n",
       "      <td>RGB</td>\n",
       "      <td>Painting</td>\n",
       "    </tr>\n",
       "    <tr>\n",
       "      <th>2</th>\n",
       "      <td>painting_00003.jpg</td>\n",
       "      <td>750.0</td>\n",
       "      <td>600.0</td>\n",
       "      <td>RGB</td>\n",
       "      <td>Painting</td>\n",
       "    </tr>\n",
       "    <tr>\n",
       "      <th>3</th>\n",
       "      <td>painting_00004.jpg</td>\n",
       "      <td>1000.0</td>\n",
       "      <td>490.0</td>\n",
       "      <td>RGB</td>\n",
       "      <td>Painting</td>\n",
       "    </tr>\n",
       "    <tr>\n",
       "      <th>4</th>\n",
       "      <td>painting_00005.jpg</td>\n",
       "      <td>429.0</td>\n",
       "      <td>570.0</td>\n",
       "      <td>RGB</td>\n",
       "      <td>Painting</td>\n",
       "    </tr>\n",
       "    <tr>\n",
       "      <th>...</th>\n",
       "      <td>...</td>\n",
       "      <td>...</td>\n",
       "      <td>...</td>\n",
       "      <td>...</td>\n",
       "      <td>...</td>\n",
       "    </tr>\n",
       "    <tr>\n",
       "      <th>41394</th>\n",
       "      <td>text_09996.jpg</td>\n",
       "      <td>595.0</td>\n",
       "      <td>842.0</td>\n",
       "      <td>RGB</td>\n",
       "      <td>Text</td>\n",
       "    </tr>\n",
       "    <tr>\n",
       "      <th>41395</th>\n",
       "      <td>text_09997.jpg</td>\n",
       "      <td>595.0</td>\n",
       "      <td>842.0</td>\n",
       "      <td>RGB</td>\n",
       "      <td>Text</td>\n",
       "    </tr>\n",
       "    <tr>\n",
       "      <th>41396</th>\n",
       "      <td>text_09998.jpg</td>\n",
       "      <td>595.0</td>\n",
       "      <td>792.0</td>\n",
       "      <td>RGB</td>\n",
       "      <td>Text</td>\n",
       "    </tr>\n",
       "    <tr>\n",
       "      <th>41397</th>\n",
       "      <td>text_09999.jpg</td>\n",
       "      <td>595.0</td>\n",
       "      <td>792.0</td>\n",
       "      <td>RGB</td>\n",
       "      <td>Text</td>\n",
       "    </tr>\n",
       "    <tr>\n",
       "      <th>41398</th>\n",
       "      <td>text_10000.jpg</td>\n",
       "      <td>595.0</td>\n",
       "      <td>792.0</td>\n",
       "      <td>RGB</td>\n",
       "      <td>Text</td>\n",
       "    </tr>\n",
       "  </tbody>\n",
       "</table>\n",
       "<p>41399 rows × 5 columns</p>\n",
       "</div>"
      ],
      "text/plain": [
       "                 FileName   Width  Height Mode  Category\n",
       "0      painting_00001.jpg   710.0   768.0  RGB  Painting\n",
       "1      painting_00002.jpg   597.0   561.0  RGB  Painting\n",
       "2      painting_00003.jpg   750.0   600.0  RGB  Painting\n",
       "3      painting_00004.jpg  1000.0   490.0  RGB  Painting\n",
       "4      painting_00005.jpg   429.0   570.0  RGB  Painting\n",
       "...                   ...     ...     ...  ...       ...\n",
       "41394      text_09996.jpg   595.0   842.0  RGB      Text\n",
       "41395      text_09997.jpg   595.0   842.0  RGB      Text\n",
       "41396      text_09998.jpg   595.0   792.0  RGB      Text\n",
       "41397      text_09999.jpg   595.0   792.0  RGB      Text\n",
       "41398      text_10000.jpg   595.0   792.0  RGB      Text\n",
       "\n",
       "[41399 rows x 5 columns]"
      ]
     },
     "execution_count": 69,
     "metadata": {},
     "output_type": "execute_result"
    }
   ],
   "source": [
    "image_data = []\n",
    "\n",
    "for folder in os.listdir(dataset_path):\n",
    "    folder_path = os.path.join(dataset_path, folder)\n",
    "    \n",
    "    for file in os.listdir(folder_path):\n",
    "            file_path = os.path.join(folder_path, file)\n",
    "            if file == \"desktop.ini\":\n",
    "                continue\n",
    "            with Image.open(file_path) as image:\n",
    "                image_data.append({\n",
    "                    \"FileName\": file,\n",
    "                    \"Width\": float(image.size[0]),\n",
    "                    \"Height\": float(image.size[1]),\n",
    "                    \"Mode\": image.mode,\n",
    "                    \"Category\": folder,\n",
    "                })\n",
    "\n",
    "    print(f\"Le dossier '{folder}' a été lu.\")\n",
    "\n",
    "images = pd.DataFrame(image_data)\n",
    "images\n"
   ]
  },
  {
   "cell_type": "markdown",
   "id": "30baa161",
   "metadata": {},
   "source": [
    "#### Analyse des modes de couleur dans le dataset d'images"
   ]
  },
  {
   "cell_type": "code",
   "execution_count": 71,
   "id": "8e86545f",
   "metadata": {},
   "outputs": [
    {
     "name": "stdout",
     "output_type": "stream",
     "text": [
      "Le modes present dans notre dataset : \n",
      "['RGB' 'L' 'P' 'CMYK' 'RGBA']\n",
      "   Mode  Nombre\n",
      "0   RGB   40297\n",
      "1     L    1091\n",
      "2     P       5\n",
      "3  RGBA       5\n",
      "4  CMYK       1\n"
     ]
    }
   ],
   "source": [
    "images = pd.DataFrame(image_data)\n",
    "modes_count = images[\"Mode\"].value_counts().reset_index()\n",
    "modes_count.columns = [\"Mode\", \"Nombre\"]\n",
    "print(\"Le modes present dans notre dataset : \")\n",
    "unique_modes = images[\"Mode\"].unique()\n",
    "print(unique_modes)\n",
    "print(modes_count)"
   ]
  },
  {
   "cell_type": "markdown",
   "id": "ac21ad80",
   "metadata": {},
   "source": [
    "#### Nombre d'images par catégorie dans le dataset"
   ]
  },
  {
   "cell_type": "code",
   "execution_count": 72,
   "id": "82fd8803",
   "metadata": {},
   "outputs": [
    {
     "name": "stdout",
     "output_type": "stream",
     "text": [
      "Nombre d'images dans Painting : 10000\n",
      "Nombre d'images dans Photo : 9993\n",
      "Nombre d'images dans Schematics : 10001\n",
      "Nombre d'images dans Sketch : 1406\n",
      "Nombre d'images dans Text : 10000\n"
     ]
    }
   ],
   "source": [
    "#Nombre d'image par categorie\n",
    "category_names = []\n",
    "image_counts = []\n",
    "\n",
    "dataset_dir = os.listdir(dataset_path)\n",
    "\n",
    "for directory in dataset_dir:\n",
    "    files=os.listdir(os.path.join(dataset_path, directory))\n",
    "    image_count = len(list(files))\n",
    "    category_names.append(directory)\n",
    "    image_counts.append(image_count)\n",
    "    print(\"Nombre d'images dans \"+ directory +\" :\", image_count)"
   ]
  },
  {
   "cell_type": "markdown",
   "id": "ec19d95c",
   "metadata": {},
   "source": [
    "#### Visualisation du nombre d'images par catégorie dans le dataset"
   ]
  },
  {
   "cell_type": "code",
   "execution_count": 73,
   "id": "6dcb66e8",
   "metadata": {},
   "outputs": [
    {
     "data": {
      "image/png": "[encoded data removed]",
      "text/plain": [
       "<Figure size 864x432 with 1 Axes>"
      ]
     },
     "metadata": {},
     "output_type": "display_data"
    }
   ],
   "source": [
    "sns.set(style=\"whitegrid\")\n",
    "\n",
    "plt.figure(figsize=(12, 6))\n",
    "sns.barplot(x=category_names, y=image_counts, palette=\"husl\", linewidth=1)\n",
    "plt.xlabel('Catégorie')\n",
    "plt.ylabel('Nombre d\\'images')\n",
    "plt.title('Nombre d\\'images par catégorie')\n",
    "plt.xticks(rotation=45, ha=\"right\")\n",
    "\n",
    "plt.ylim(min(image_counts) - 300, max(image_counts) + 300)\n",
    "plt.axhline(y=10000, color='red', linestyle='--', label='Max 10,000')\n",
    "\n",
    "plt.tight_layout()\n",
    "plt.legend()\n",
    "plt.show()\n"
   ]
  },
  {
   "cell_type": "markdown",
   "id": "6e54601a",
   "metadata": {},
   "source": [
    "#### Liste des extensions de fichiers présentes dans le dataset"
   ]
  },
  {
   "cell_type": "code",
   "execution_count": 58,
   "id": "5077a704",
   "metadata": {
    "scrolled": true
   },
   "outputs": [
    {
     "name": "stdout",
     "output_type": "stream",
     "text": [
      "Extensions possibles dans le dataset :\n",
      ".jpg\n",
      ".ini\n",
      ".png\n"
     ]
    }
   ],
   "source": [
    "#Toutes les extension possibles de notre dataset\n",
    "import os\n",
    "\n",
    "extensions = []\n",
    "\n",
    "for folder in os.listdir(dataset_path):\n",
    "    folder_path = os.path.join(dataset_path, folder)\n",
    "\n",
    "    for file in os.listdir(folder_path):\n",
    "        file_path = os.path.join(folder_path, file)\n",
    "        file_extension = os.path.splitext(file)[1]\n",
    "\n",
    "        if file_extension not in extensions:\n",
    "            extensions.append(file_extension)\n",
    "\n",
    "print(\"Extensions possibles dans le dataset :\")\n",
    "for extension in extensions:\n",
    "    print(extension)\n",
    "    \n"
   ]
  },
  {
   "cell_type": "markdown",
   "id": "50cd4d17",
   "metadata": {},
   "source": [
    "#### Création des ensembles de données d'entraînement et de validation à partir du répertoire d'images"
   ]
  },
  {
   "cell_type": "code",
   "execution_count": 59,
   "id": "ac8ee4de",
   "metadata": {},
   "outputs": [
    {
     "name": "stdout",
     "output_type": "stream",
     "text": [
      "Found 7995 images belonging to 1 classes.\n",
      "Found 25125 images belonging to 4 classes.\n",
      "Found 1998 images belonging to 1 classes.\n",
      "Found 6281 images belonging to 4 classes.\n"
     ]
    }
   ],
   "source": [
    "def create_data_generator(directory, target_size, classes, subset):\n",
    "    datagen = ImageDataGenerator(\n",
    "        rescale=1./255,\n",
    "        rotation_range=20,\n",
    "        width_shift_range=0.2,\n",
    "        height_shift_range=0.2,\n",
    "        shear_range=0.2,\n",
    "        zoom_range=0.2,\n",
    "        horizontal_flip=True,\n",
    "        fill_mode='nearest',\n",
    "        validation_split=0.2\n",
    "    )\n",
    "\n",
    "    return datagen.flow_from_directory(\n",
    "        directory=directory,\n",
    "        target_size=target_size,\n",
    "        classes=classes,\n",
    "        class_mode=\"binary\",\n",
    "        subset=subset,\n",
    "        batch_size=32\n",
    "    )\n",
    "\n",
    "photos_gen = create_data_generator(dataset_path, (224, 224), [\"Photo\"], \"training\")\n",
    "others_gen = create_data_generator(dataset_path, (224, 224), [\"Text\", \"Sketch\", \"Schematics\", \"Painting\"], \"training\")\n",
    "\n",
    "photos_val_gen = create_data_generator(dataset_path, (224, 224), [\"Photo\"], \"validation\")\n",
    "others_val_gen = create_data_generator(dataset_path, (224, 224), [\"Text\", \"Sketch\", \"Schematics\", \"Painting\"], \"validation\")\n"
   ]
  },
  {
   "cell_type": "code",
   "execution_count": 60,
   "id": "9c57bab1",
   "metadata": {},
   "outputs": [],
   "source": [
    "# Fusion des générateurs\n",
    "def custom_merge_gen(photo_gen, other_gen):\n",
    "    while True:\n",
    "        photo_data, _ = photo_gen.next()\n",
    "        other_data, _ = other_gen.next()\n",
    "\n",
    "        # Création des labels\n",
    "        photo_labels = np.ones(photo_data.shape[0])\n",
    "        other_labels = np.zeros(other_data.shape[0])\n",
    "\n",
    "        # Fusion des données et des labels\n",
    "        combined_data = np.vstack((photo_data, other_data))\n",
    "        combined_labels = np.hstack((photo_labels, other_labels))\n",
    "\n",
    "        yield combined_data, combined_labels\n",
    "\n",
    "train_generator = custom_merge_gen(photos_gen, others_gen)\n",
    "val_generator = custom_merge_gen(photos_val_gen, others_val_gen)"
   ]
  },
  {
   "cell_type": "code",
   "execution_count": null,
   "id": "970297d0",
   "metadata": {},
   "outputs": [],
   "source": []
  },
  {
   "cell_type": "markdown",
   "id": "bdd3a4f7",
   "metadata": {},
   "source": [
    "#### Configuration de la Data Augmentation pour l'Entraînement du Modèle\n",
    "\n",
    "Augmentation de la diversité des données d'entraînement "
   ]
  },
  {
   "cell_type": "code",
   "execution_count": null,
   "id": "005c3ec7",
   "metadata": {},
   "outputs": [],
   "source": []
  },
  {
   "cell_type": "markdown",
   "id": "4c9e9b38",
   "metadata": {},
   "source": [
    "### Construction du Modèle de Réseau de Neurones Convolutif (CNN)"
   ]
  },
  {
   "cell_type": "code",
   "execution_count": 61,
   "id": "08f58993",
   "metadata": {},
   "outputs": [],
   "source": [
    "# Le modèle (avec 2 couches de convolution)\n",
    "model_two_layer = Sequential([\n",
    "  \n",
    "  layers.Rescaling(1./255, input_shape=(image_h, image_w, 3)),\n",
    "    \n",
    "  layers.Conv2D(16, 3, padding='same', activation='relu'),\n",
    "  layers.MaxPooling2D(),\n",
    "    \n",
    "  layers.Conv2D(32, 3, padding='same', activation='relu'),\n",
    "  layers.MaxPooling2D(),\n",
    "    \n",
    "  layers.Dropout(0.2),\n",
    "  layers.Flatten(),\n",
    "    \n",
    "  layers.Dense(32, activation='relu'),\n",
    "  layers.Dense(1, activation='sigmoid')\n",
    "])\n"
   ]
  },
  {
   "cell_type": "code",
   "execution_count": 63,
   "id": "12f2278a",
   "metadata": {},
   "outputs": [],
   "source": [
    "# Compilation du modèle\n",
    "model_two_layer.compile(optimizer='adam',\n",
    "              loss='binary_crossentropy',\n",
    "              metrics=['accuracy'])"
   ]
  },
  {
   "cell_type": "code",
   "execution_count": 64,
   "id": "3b382bf2",
   "metadata": {},
   "outputs": [
    {
     "name": "stdout",
     "output_type": "stream",
     "text": [
      "Model: \"sequential_1\"\n",
      "_________________________________________________________________\n",
      " Layer (type)                Output Shape              Param #   \n",
      "=================================================================\n",
      " rescaling_2 (Rescaling)     (None, 224, 224, 3)       0         \n",
      "                                                                 \n",
      " conv2d_4 (Conv2D)           (None, 224, 224, 16)      448       \n",
      "                                                                 \n",
      " max_pooling2d_4 (MaxPoolin  (None, 112, 112, 16)      0         \n",
      " g2D)                                                            \n",
      "                                                                 \n",
      " conv2d_5 (Conv2D)           (None, 112, 112, 32)      4640      \n",
      "                                                                 \n",
      " max_pooling2d_5 (MaxPoolin  (None, 56, 56, 32)        0         \n",
      " g2D)                                                            \n",
      "                                                                 \n",
      " dropout_2 (Dropout)         (None, 56, 56, 32)        0         \n",
      "                                                                 \n",
      " flatten_2 (Flatten)         (None, 100352)            0         \n",
      "                                                                 \n",
      " dense_3 (Dense)             (None, 32)                3211296   \n",
      "                                                                 \n",
      " dense_4 (Dense)             (None, 1)                 33        \n",
      "                                                                 \n",
      "=================================================================\n",
      "Total params: 3216417 (12.27 MB)\n",
      "Trainable params: 3216417 (12.27 MB)\n",
      "Non-trainable params: 0 (0.00 Byte)\n",
      "_________________________________________________________________\n"
     ]
    }
   ],
   "source": [
    "# Résumé du modèle\n",
    "model_two_layer.summary()"
   ]
  },
  {
   "cell_type": "code",
   "execution_count": null,
   "id": "21b76891",
   "metadata": {},
   "outputs": [],
   "source": []
  },
  {
   "cell_type": "markdown",
   "id": "8eb93d05",
   "metadata": {},
   "source": [
    "#### Utilisation de l'Arrêt Précoce (Early Stopping) pour Améliorer l'Entraînement du Modèle\n",
    "\n",
    "L'arrêt précoce (Early Stopping) est une technique utilisée lors de l'entraînement de modèles  pour prévenir le surajustement et améliorer la convergence du modèle"
   ]
  },
  {
   "cell_type": "code",
   "execution_count": 65,
   "id": "e5b7233b",
   "metadata": {},
   "outputs": [],
   "source": [
    "# Callback pour l'arrêt précoce\n",
    "early_stopping = EarlyStopping(monitor='val_loss', patience=3, restore_best_weights=True)"
   ]
  },
  {
   "cell_type": "code",
   "execution_count": 66,
   "id": "e79568df",
   "metadata": {
    "scrolled": true
   },
   "outputs": [
    {
     "name": "stdout",
     "output_type": "stream",
     "text": [
      "Epoch 1/10\n",
      "643/643 [==============================] - 1980s 3s/step - loss: 0.4472 - accuracy: 0.7833 - val_loss: 0.4878 - val_accuracy: 0.7576\n",
      "Epoch 2/10\n",
      "643/643 [==============================] - 1338s 2s/step - loss: 0.4278 - accuracy: 0.7888 - val_loss: 0.4158 - val_accuracy: 0.7970\n",
      "Epoch 3/10\n",
      "643/643 [==============================] - 1364s 2s/step - loss: 0.4155 - accuracy: 0.8010 - val_loss: 0.4103 - val_accuracy: 0.7972\n",
      "Epoch 4/10\n",
      "643/643 [==============================] - 2603s 4s/step - loss: 0.4075 - accuracy: 0.8085 - val_loss: 0.4113 - val_accuracy: 0.7983\n",
      "Epoch 5/10\n",
      "643/643 [==============================] - 2165s 3s/step - loss: 0.4051 - accuracy: 0.8098 - val_loss: 0.3910 - val_accuracy: 0.8149\n",
      "Epoch 6/10\n",
      "643/643 [==============================] - 1659s 3s/step - loss: 0.3942 - accuracy: 0.8147 - val_loss: 0.3942 - val_accuracy: 0.8195\n",
      "Epoch 7/10\n",
      "643/643 [==============================] - 1422s 2s/step - loss: 0.3849 - accuracy: 0.8193 - val_loss: 0.3756 - val_accuracy: 0.8203\n",
      "Epoch 8/10\n",
      "643/643 [==============================] - 1295s 2s/step - loss: 0.3845 - accuracy: 0.8190 - val_loss: 0.3684 - val_accuracy: 0.8295\n",
      "Epoch 9/10\n",
      "643/643 [==============================] - 1146s 2s/step - loss: 0.3728 - accuracy: 0.8251 - val_loss: 0.3960 - val_accuracy: 0.8091\n",
      "Epoch 10/10\n",
      "643/643 [==============================] - 1608s 3s/step - loss: 0.3690 - accuracy: 0.8270 - val_loss: 0.3667 - val_accuracy: 0.8312\n"
     ]
    }
   ],
   "source": [
    "# Entraînement du modèle\n",
    "history = model_two_layer.fit(\n",
    "  train_generator,\n",
    "  validation_data=val_generator,\n",
    "  epochs=epochs,\n",
    "  callbacks=[early_stopping],\n",
    "  steps_per_epoch=len(photos_gen) + len(others_gen)//2, validation_steps=len(photos_val_gen) + len(others_val_gen)//2\n",
    ")"
   ]
  },
  {
   "cell_type": "code",
   "execution_count": null,
   "id": "4f5bd957",
   "metadata": {},
   "outputs": [],
   "source": []
  },
  {
   "cell_type": "code",
   "execution_count": 68,
   "id": "cfddc153",
   "metadata": {},
   "outputs": [],
   "source": [
    "model_two_layer.save('photo_classifier_model.h5')"
   ]
  },
  {
   "cell_type": "code",
   "execution_count": 69,
   "id": "d5f58113",
   "metadata": {},
   "outputs": [],
   "source": [
    "from tensorflow.keras.models import load_model\n",
    "model = load_model('photo_classifier_model.h5')"
   ]
  },
  {
   "cell_type": "markdown",
   "id": "a1d6df2a",
   "metadata": {},
   "source": [
    "#### Visualisation de l'Évolution de l'Accuracy d'Entraînement et de Validation par Époque"
   ]
  },
  {
   "cell_type": "code",
   "execution_count": null,
   "id": "d65e8b32",
   "metadata": {},
   "outputs": [],
   "source": []
  },
  {
   "cell_type": "code",
   "execution_count": null,
   "id": "8554ba50",
   "metadata": {},
   "outputs": [],
   "source": []
  },
  {
   "cell_type": "code",
   "execution_count": 70,
   "id": "03a59853",
   "metadata": {},
   "outputs": [
    {
     "data": {
      "image/png": "[encoded data removed]",
      "text/plain": [
       "<Figure size 720x360 with 1 Axes>"
      ]
     },
     "metadata": {},
     "output_type": "display_data"
    }
   ],
   "source": [
    "# Extraire les valeurs d'accuracy d'entraînement et de validation de l'historique\n",
    "train_accuracy = history.history['accuracy']\n",
    "val_accuracy = history.history['val_accuracy']\n",
    "\n",
    "# Créer un graphique pour visualiser l'accuracy\n",
    "plt.figure(figsize=(10, 5))\n",
    "plt.plot(range(1, 11), train_accuracy, label='Train Accuracy')  # Remplacez 11 par le nombre total d'epochs\n",
    "plt.plot(range(1, 11), val_accuracy, label='Validation Accuracy')  # Remplacez 11 par le nombre total d'epochs\n",
    "plt.xlabel('Epochs')\n",
    "plt.ylabel('Accuracy')\n",
    "plt.title('Train and Validation Accuracy Over Epochs')\n",
    "plt.legend()\n",
    "plt.grid(True)\n",
    "plt.show()\n"
   ]
  },
  {
   "cell_type": "code",
   "execution_count": 102,
   "id": "a3f1aa3d",
   "metadata": {},
   "outputs": [
    {
     "name": "stdout",
     "output_type": "stream",
     "text": [
      "1/1 [==============================] - 0s 74ms/step\n",
      "[[0.8026183]]\n",
      "[[1]]\n",
      "Predicted Class: Photo\n"
     ]
    }
   ],
   "source": [
    "from tensorflow.keras.preprocessing import image\n",
    "\n",
    "img_path = 'C:\\\\Users\\\\yanis\\\\OneDrive\\\\Bureau\\\\img_test\\\\painting_1.jpg'\n",
    "img = image.load_img(img_path, target_size=(224, 224))\n",
    "img_array = image.img_to_array(img)\n",
    "img_array = np.expand_dims(img_array, axis=0) / 255.0\n",
    "\n",
    "prediction = model.predict(img_array)\n",
    "print(prediction)\n",
    "predicted_class = (prediction > 0.6).astype(\"int32\")  # 1 pour \"Photo\", 0 pour \"Autres\"\n",
    "print(predicted_class)\n",
    "\n",
    "print(f\"Predicted Class: {'Photo' if predicted_class[0][0] == 1 else 'Others'}\")"
   ]
  },
  {
   "cell_type": "code",
   "execution_count": null,
   "id": "44b92079",
   "metadata": {},
   "outputs": [],
   "source": []
  }
 ],
 "metadata": {
  "kernelspec": {
   "display_name": "Python 3 (ipykernel)",
   "language": "python",
   "name": "python3"
  },
  "language_info": {
   "codemirror_mode": {
    "name": "ipython",
    "version": 3
   },
   "file_extension": ".py",
   "mimetype": "text/x-python",
   "name": "python",
   "nbconvert_exporter": "python",
   "pygments_lexer": "ipython3",
   "version": "3.10.11"
  }
 },
 "nbformat": 4,
 "nbformat_minor": 5
}
