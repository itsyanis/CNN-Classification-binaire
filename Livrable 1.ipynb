{
 "cells": [
  {
   "cell_type": "markdown",
   "id": "daea3fdf",
   "metadata": {},
   "source": [
    "### Importation des bibliothèques nécessaires"
   ]
  },
  {
   "cell_type": "code",
   "execution_count": 66,
   "id": "9a2fd3d6",
   "metadata": {},
   "outputs": [],
   "source": [
    "import os\n",
    "import numpy as np\n",
    "import pandas as pd\n",
    "import seaborn as sns\n",
    "import tensorflow as tf\n",
    "from PIL import Image\n",
    "from tensorflow import keras\n",
    "import matplotlib.pyplot as plt\n",
    "import matplotlib.pyplot as plt\n",
    "from tensorflow.keras import layers\n",
    "from tensorflow.keras.models import Sequential\n",
    "from tensorflow.keras.callbacks import EarlyStopping\n",
    "from tensorflow.keras.preprocessing.image import ImageDataGenerator"
   ]
  },
  {
   "cell_type": "code",
   "execution_count": 67,
   "id": "6ad4ff60",
   "metadata": {},
   "outputs": [],
   "source": [
    "# Path du dataset\n",
    "dataset_path = \"C:\\\\Users\\\\yanis\\\\OneDrive\\\\Bureau\\\\Liv1_dataset\""
   ]
  },
  {
   "cell_type": "markdown",
   "id": "4cdc46ec",
   "metadata": {},
   "source": [
    "#### Variables gobale"
   ]
  },
  {
   "cell_type": "code",
   "execution_count": 68,
   "id": "ec888297",
   "metadata": {},
   "outputs": [],
   "source": [
    "data_dir = dataset_path\n",
    "image_h = 180\n",
    "image_w = 180\n",
    "batch_s = 32\n",
    "epochs = 10"
   ]
  },
  {
   "cell_type": "markdown",
   "id": "1687c8e9",
   "metadata": {},
   "source": [
    "#### Collecte de données sur les images et création d'un DataFrame avec leurs caractéristiques"
   ]
  },
  {
   "cell_type": "code",
   "execution_count": 69,
   "id": "25c78bd3",
   "metadata": {},
   "outputs": [
    {
     "name": "stdout",
     "output_type": "stream",
     "text": [
      "Le dossier 'Painting' a été lu.\n",
      "Le dossier 'Photo' a été lu.\n",
      "Le dossier 'Schematics' a été lu.\n",
      "Le dossier 'Sketch' a été lu.\n",
      "Le dossier 'Text' a été lu.\n"
     ]
    },
    {
     "data": {
      "text/html": [
       "<div>\n",
       "<style scoped>\n",
       "    .dataframe tbody tr th:only-of-type {\n",
       "        vertical-align: middle;\n",
       "    }\n",
       "\n",
       "    .dataframe tbody tr th {\n",
       "        vertical-align: top;\n",
       "    }\n",
       "\n",
       "    .dataframe thead th {\n",
       "        text-align: right;\n",
       "    }\n",
       "</style>\n",
       "<table border=\"1\" class=\"dataframe\">\n",
       "  <thead>\n",
       "    <tr style=\"text-align: right;\">\n",
       "      <th></th>\n",
       "      <th>FileName</th>\n",
       "      <th>Width</th>\n",
       "      <th>Height</th>\n",
       "      <th>Mode</th>\n",
       "      <th>Category</th>\n",
       "    </tr>\n",
       "  </thead>\n",
       "  <tbody>\n",
       "    <tr>\n",
       "      <th>0</th>\n",
       "      <td>painting_00001.jpg</td>\n",
       "      <td>710.0</td>\n",
       "      <td>768.0</td>\n",
       "      <td>RGB</td>\n",
       "      <td>Painting</td>\n",
       "    </tr>\n",
       "    <tr>\n",
       "      <th>1</th>\n",
       "      <td>painting_00002.jpg</td>\n",
       "      <td>597.0</td>\n",
       "      <td>561.0</td>\n",
       "      <td>RGB</td>\n",
       "      <td>Painting</td>\n",
       "    </tr>\n",
       "    <tr>\n",
       "      <th>2</th>\n",
       "      <td>painting_00003.jpg</td>\n",
       "      <td>750.0</td>\n",
       "      <td>600.0</td>\n",
       "      <td>RGB</td>\n",
       "      <td>Painting</td>\n",
       "    </tr>\n",
       "    <tr>\n",
       "      <th>3</th>\n",
       "      <td>painting_00004.jpg</td>\n",
       "      <td>1000.0</td>\n",
       "      <td>490.0</td>\n",
       "      <td>RGB</td>\n",
       "      <td>Painting</td>\n",
       "    </tr>\n",
       "    <tr>\n",
       "      <th>4</th>\n",
       "      <td>painting_00005.jpg</td>\n",
       "      <td>429.0</td>\n",
       "      <td>570.0</td>\n",
       "      <td>RGB</td>\n",
       "      <td>Painting</td>\n",
       "    </tr>\n",
       "    <tr>\n",
       "      <th>...</th>\n",
       "      <td>...</td>\n",
       "      <td>...</td>\n",
       "      <td>...</td>\n",
       "      <td>...</td>\n",
       "      <td>...</td>\n",
       "    </tr>\n",
       "    <tr>\n",
       "      <th>41394</th>\n",
       "      <td>text_09996.jpg</td>\n",
       "      <td>595.0</td>\n",
       "      <td>842.0</td>\n",
       "      <td>RGB</td>\n",
       "      <td>Text</td>\n",
       "    </tr>\n",
       "    <tr>\n",
       "      <th>41395</th>\n",
       "      <td>text_09997.jpg</td>\n",
       "      <td>595.0</td>\n",
       "      <td>842.0</td>\n",
       "      <td>RGB</td>\n",
       "      <td>Text</td>\n",
       "    </tr>\n",
       "    <tr>\n",
       "      <th>41396</th>\n",
       "      <td>text_09998.jpg</td>\n",
       "      <td>595.0</td>\n",
       "      <td>792.0</td>\n",
       "      <td>RGB</td>\n",
       "      <td>Text</td>\n",
       "    </tr>\n",
       "    <tr>\n",
       "      <th>41397</th>\n",
       "      <td>text_09999.jpg</td>\n",
       "      <td>595.0</td>\n",
       "      <td>792.0</td>\n",
       "      <td>RGB</td>\n",
       "      <td>Text</td>\n",
       "    </tr>\n",
       "    <tr>\n",
       "      <th>41398</th>\n",
       "      <td>text_10000.jpg</td>\n",
       "      <td>595.0</td>\n",
       "      <td>792.0</td>\n",
       "      <td>RGB</td>\n",
       "      <td>Text</td>\n",
       "    </tr>\n",
       "  </tbody>\n",
       "</table>\n",
       "<p>41399 rows × 5 columns</p>\n",
       "</div>"
      ],
      "text/plain": [
       "                 FileName   Width  Height Mode  Category\n",
       "0      painting_00001.jpg   710.0   768.0  RGB  Painting\n",
       "1      painting_00002.jpg   597.0   561.0  RGB  Painting\n",
       "2      painting_00003.jpg   750.0   600.0  RGB  Painting\n",
       "3      painting_00004.jpg  1000.0   490.0  RGB  Painting\n",
       "4      painting_00005.jpg   429.0   570.0  RGB  Painting\n",
       "...                   ...     ...     ...  ...       ...\n",
       "41394      text_09996.jpg   595.0   842.0  RGB      Text\n",
       "41395      text_09997.jpg   595.0   842.0  RGB      Text\n",
       "41396      text_09998.jpg   595.0   792.0  RGB      Text\n",
       "41397      text_09999.jpg   595.0   792.0  RGB      Text\n",
       "41398      text_10000.jpg   595.0   792.0  RGB      Text\n",
       "\n",
       "[41399 rows x 5 columns]"
      ]
     },
     "execution_count": 69,
     "metadata": {},
     "output_type": "execute_result"
    }
   ],
   "source": [
    "image_data = []\n",
    "\n",
    "for folder in os.listdir(dataset_path):\n",
    "    folder_path = os.path.join(dataset_path, folder)\n",
    "    \n",
    "    for file in os.listdir(folder_path):\n",
    "            file_path = os.path.join(folder_path, file)\n",
    "            if file == \"desktop.ini\":\n",
    "                continue\n",
    "            with Image.open(file_path) as image:\n",
    "                image_data.append({\n",
    "                    \"FileName\": file,\n",
    "                    \"Width\": float(image.size[0]),\n",
    "                    \"Height\": float(image.size[1]),\n",
    "                    \"Mode\": image.mode,\n",
    "                    \"Category\": folder,\n",
    "                })\n",
    "\n",
    "    print(f\"Le dossier '{folder}' a été lu.\")\n",
    "\n",
    "images = pd.DataFrame(image_data)\n",
    "images\n"
   ]
  },
  {
   "cell_type": "markdown",
   "id": "30baa161",
   "metadata": {},
   "source": [
    "#### Analyse des modes de couleur dans le dataset d'images"
   ]
  },
  {
   "cell_type": "code",
   "execution_count": 71,
   "id": "8e86545f",
   "metadata": {},
   "outputs": [
    {
     "name": "stdout",
     "output_type": "stream",
     "text": [
      "Le modes present dans notre dataset : \n",
      "['RGB' 'L' 'P' 'CMYK' 'RGBA']\n",
      "   Mode  Nombre\n",
      "0   RGB   40297\n",
      "1     L    1091\n",
      "2     P       5\n",
      "3  RGBA       5\n",
      "4  CMYK       1\n"
     ]
    }
   ],
   "source": [
    "images = pd.DataFrame(image_data)\n",
    "modes_count = images[\"Mode\"].value_counts().reset_index()\n",
    "modes_count.columns = [\"Mode\", \"Nombre\"]\n",
    "print(\"Le modes present dans notre dataset : \")\n",
    "unique_modes = images[\"Mode\"].unique()\n",
    "print(unique_modes)\n",
    "print(modes_count)"
   ]
  },
  {
   "cell_type": "markdown",
   "id": "ac21ad80",
   "metadata": {},
   "source": [
    "#### Nombre d'images par catégorie dans le dataset"
   ]
  },
  {
   "cell_type": "code",
   "execution_count": 72,
   "id": "82fd8803",
   "metadata": {},
   "outputs": [
    {
     "name": "stdout",
     "output_type": "stream",
     "text": [
      "Nombre d'images dans Painting : 10000\n",
      "Nombre d'images dans Photo : 9993\n",
      "Nombre d'images dans Schematics : 10001\n",
      "Nombre d'images dans Sketch : 1406\n",
      "Nombre d'images dans Text : 10000\n"
     ]
    }
   ],
   "source": [
    "#Nombre d'image par categorie\n",
    "category_names = []\n",
    "image_counts = []\n",
    "\n",
    "dataset_dir = os.listdir(dataset_path)\n",
    "\n",
    "for directory in dataset_dir:\n",
    "    files=os.listdir(os.path.join(dataset_path, directory))\n",
    "    image_count = len(list(files))\n",
    "    category_names.append(directory)\n",
    "    image_counts.append(image_count)\n",
    "    print(\"Nombre d'images dans \"+ directory +\" :\", image_count)"
   ]
  },
  {
   "cell_type": "markdown",
   "id": "ec19d95c",
   "metadata": {},
   "source": [
    "#### Visualisation du nombre d'images par catégorie dans le dataset"
   ]
  },
  {
   "cell_type": "code",
   "execution_count": 73,
   "id": "6dcb66e8",
   "metadata": {},
   "outputs": [
    {
     "data": {
      "image/png": "[encoded data removed]",
      "text/plain": [
       "<Figure size 864x432 with 1 Axes>"
      ]
     },
     "metadata": {},
     "output_type": "display_data"
    }
   ],
   "source": [
    "sns.set(style=\"whitegrid\")\n",
    "\n",
    "plt.figure(figsize=(12, 6))\n",
    "sns.barplot(x=category_names, y=image_counts, palette=\"husl\", linewidth=1)\n",
    "plt.xlabel('Catégorie')\n",
    "plt.ylabel('Nombre d\\'images')\n",
    "plt.title('Nombre d\\'images par catégorie')\n",
    "plt.xticks(rotation=45, ha=\"right\")\n",
    "\n",
    "plt.ylim(min(image_counts) - 300, max(image_counts) + 300)\n",
    "plt.axhline(y=10000, color='red', linestyle='--', label='Max 10,000')\n",
    "\n",
    "plt.tight_layout()\n",
    "plt.legend()\n",
    "plt.show()\n"
   ]
  },
  {
   "cell_type": "markdown",
   "id": "6e54601a",
   "metadata": {},
   "source": [
    "#### Liste des extensions de fichiers présentes dans le dataset"
   ]
  },
  {
   "cell_type": "code",
   "execution_count": 74,
   "id": "5077a704",
   "metadata": {
    "scrolled": true
   },
   "outputs": [
    {
     "name": "stdout",
     "output_type": "stream",
     "text": [
      "Extensions possibles dans le dataset :\n",
      ".jpg\n",
      ".ini\n",
      ".png\n"
     ]
    }
   ],
   "source": [
    "#Toutes les extension possibles de notre dataset\n",
    "import os\n",
    "\n",
    "extensions = []\n",
    "\n",
    "for folder in os.listdir(dataset_path):\n",
    "    folder_path = os.path.join(dataset_path, folder)\n",
    "\n",
    "    for file in os.listdir(folder_path):\n",
    "        file_path = os.path.join(folder_path, file)\n",
    "        file_extension = os.path.splitext(file)[1]\n",
    "\n",
    "        if file_extension not in extensions:\n",
    "            extensions.append(file_extension)\n",
    "\n",
    "print(\"Extensions possibles dans le dataset :\")\n",
    "for extension in extensions:\n",
    "    print(extension)\n",
    "    \n"
   ]
  },
  {
   "cell_type": "markdown",
   "id": "50cd4d17",
   "metadata": {},
   "source": [
    "#### Création des ensembles de données d'entraînement et de validation à partir du répertoire d'images"
   ]
  },
  {
   "cell_type": "code",
   "execution_count": 75,
   "id": "ac8ee4de",
   "metadata": {},
   "outputs": [
    {
     "name": "stdout",
     "output_type": "stream",
     "text": [
      "Found 41399 files belonging to 5 classes.\n",
      "Using 8280 files for training.\n",
      "Found 41399 files belonging to 5 classes.\n",
      "Using 8279 files for validation.\n",
      "['Painting', 'Photo', 'Schematics', 'Sketch', 'Text']\n"
     ]
    }
   ],
   "source": [
    "# Le train set\n",
    "train_set = tf.keras.preprocessing.image_dataset_from_directory(\n",
    "  data_dir,\n",
    "  labels = \"inferred\",  # déterminer automatiquement les étiquettes en se basant sur la structure du répertoire\n",
    "  validation_split= 0.8, \n",
    "  subset = \"training\",\n",
    "  seed=42,\n",
    "  batch_size=batch_s,\n",
    "  image_size=(image_h, image_w),\n",
    ")\n",
    "# Le test_set\n",
    "validation_set = tf.keras.preprocessing.image_dataset_from_directory(\n",
    "  data_dir,\n",
    "  labels = \"inferred\",  # # déterminer automatiquement les étiquettes en se basant sur la structure du répertoire\n",
    "  validation_split= 0.2,\n",
    "  subset = \"validation\",\n",
    "  seed=42,\n",
    "  batch_size=batch_s,\n",
    "  image_size=(image_h, image_w),\n",
    ")\n",
    "\n",
    "class_names = train_set.class_names\n",
    "print(class_names)"
   ]
  },
  {
   "cell_type": "markdown",
   "id": "bdd3a4f7",
   "metadata": {},
   "source": [
    "#### Configuration de la Data Augmentation pour l'Entraînement du Modèle\n",
    "\n",
    "Augmentation de la diversité des données d'entraînement "
   ]
  },
  {
   "cell_type": "code",
   "execution_count": 76,
   "id": "005c3ec7",
   "metadata": {},
   "outputs": [],
   "source": [
    "num_classes = len(class_names)\n",
    "data_augmentation = keras.Sequential(\n",
    "  [\n",
    "    layers.experimental.preprocessing.RandomFlip(\"horizontal\",input_shape=(image_h,image_w,3)),\n",
    "    layers.experimental.preprocessing.RandomRotation(0.1),\n",
    "    layers.experimental.preprocessing.RandomZoom(0.1)\n",
    "  ]\n",
    ")"
   ]
  },
  {
   "cell_type": "markdown",
   "id": "4c9e9b38",
   "metadata": {},
   "source": [
    "### Construction du Modèle de Réseau de Neurones Convolutif (CNN)"
   ]
  },
  {
   "cell_type": "code",
   "execution_count": 77,
   "id": "08f58993",
   "metadata": {},
   "outputs": [],
   "source": [
    "# Le modèle (avec 2 couches de convolution)\n",
    "model_two_layer = Sequential([\n",
    "  data_augmentation,\n",
    "  layers.Rescaling(1./255, input_shape=(image_h, image_w, 3)),\n",
    "    \n",
    "  layers.Conv2D(16, 3, padding='same', activation='relu'),\n",
    "  layers.MaxPooling2D(),\n",
    "    \n",
    "  layers.Conv2D(32, 3, padding='same', activation='relu'),\n",
    "  layers.MaxPooling2D(),\n",
    "    \n",
    "  layers.Dropout(0.2),\n",
    "  layers.Flatten(),\n",
    "    \n",
    "  layers.Dense(32, activation='relu'),\n",
    "  layers.Dense(num_classes)\n",
    "])\n"
   ]
  },
  {
   "cell_type": "code",
   "execution_count": 78,
   "id": "12f2278a",
   "metadata": {},
   "outputs": [],
   "source": [
    "# Compilation du modèle\n",
    "model_two_layer.compile(optimizer='adam',\n",
    "              loss=tf.keras.losses.SparseCategoricalCrossentropy(from_logits=True),\n",
    "              metrics=['accuracy'])"
   ]
  },
  {
   "cell_type": "code",
   "execution_count": 79,
   "id": "3b382bf2",
   "metadata": {},
   "outputs": [
    {
     "name": "stdout",
     "output_type": "stream",
     "text": [
      "Model: \"sequential_8\"\n",
      "_________________________________________________________________\n",
      " Layer (type)                Output Shape              Param #   \n",
      "=================================================================\n",
      " sequential_7 (Sequential)   (None, 180, 180, 3)       0         \n",
      "                                                                 \n",
      " rescaling_3 (Rescaling)     (None, 180, 180, 3)       0         \n",
      "                                                                 \n",
      " conv2d_6 (Conv2D)           (None, 180, 180, 16)      448       \n",
      "                                                                 \n",
      " max_pooling2d_6 (MaxPoolin  (None, 90, 90, 16)        0         \n",
      " g2D)                                                            \n",
      "                                                                 \n",
      " conv2d_7 (Conv2D)           (None, 90, 90, 32)        4640      \n",
      "                                                                 \n",
      " max_pooling2d_7 (MaxPoolin  (None, 45, 45, 32)        0         \n",
      " g2D)                                                            \n",
      "                                                                 \n",
      " dropout_3 (Dropout)         (None, 45, 45, 32)        0         \n",
      "                                                                 \n",
      " flatten_3 (Flatten)         (None, 64800)             0         \n",
      "                                                                 \n",
      " dense_6 (Dense)             (None, 32)                2073632   \n",
      "                                                                 \n",
      " dense_7 (Dense)             (None, 5)                 165       \n",
      "                                                                 \n",
      "=================================================================\n",
      "Total params: 2078885 (7.93 MB)\n",
      "Trainable params: 2078885 (7.93 MB)\n",
      "Non-trainable params: 0 (0.00 Byte)\n",
      "_________________________________________________________________\n"
     ]
    }
   ],
   "source": [
    "# Résumé du modèle\n",
    "model_two_layer.summary()"
   ]
  },
  {
   "cell_type": "markdown",
   "id": "8eb93d05",
   "metadata": {},
   "source": [
    "#### Utilisation de l'Arrêt Précoce (Early Stopping) pour Améliorer l'Entraînement du Modèle\n",
    "\n",
    "L'arrêt précoce (Early Stopping) est une technique utilisée lors de l'entraînement de modèles  pour prévenir le surajustement et améliorer la convergence du modèle"
   ]
  },
  {
   "cell_type": "code",
   "execution_count": 80,
   "id": "e5b7233b",
   "metadata": {},
   "outputs": [],
   "source": [
    "# Callback pour l'arrêt précoce\n",
    "early_stopping = EarlyStopping(monitor='val_loss', patience=3, restore_best_weights=True)"
   ]
  },
  {
   "cell_type": "code",
   "execution_count": 81,
   "id": "e79568df",
   "metadata": {
    "scrolled": true
   },
   "outputs": [
    {
     "name": "stdout",
     "output_type": "stream",
     "text": [
      "Epoch 1/10\n",
      "259/259 [==============================] - 93s 356ms/step - loss: 1.2959 - accuracy: 0.4795 - val_loss: 0.8861 - val_accuracy: 0.6194\n",
      "Epoch 2/10\n",
      "259/259 [==============================] - 111s 428ms/step - loss: 0.8550 - accuracy: 0.6335 - val_loss: 0.8274 - val_accuracy: 0.6397\n",
      "Epoch 3/10\n",
      "259/259 [==============================] - 136s 523ms/step - loss: 0.7820 - accuracy: 0.6629 - val_loss: 0.6501 - val_accuracy: 0.7290\n",
      "Epoch 4/10\n",
      "259/259 [==============================] - 129s 495ms/step - loss: 0.6462 - accuracy: 0.7223 - val_loss: 0.6243 - val_accuracy: 0.7379\n",
      "Epoch 5/10\n",
      "259/259 [==============================] - 133s 511ms/step - loss: 0.5992 - accuracy: 0.7415 - val_loss: 0.6109 - val_accuracy: 0.7495\n",
      "Epoch 6/10\n",
      "259/259 [==============================] - 127s 491ms/step - loss: 0.5580 - accuracy: 0.7599 - val_loss: 0.5344 - val_accuracy: 0.7764\n",
      "Epoch 7/10\n",
      "259/259 [==============================] - 130s 499ms/step - loss: 0.5439 - accuracy: 0.7657 - val_loss: 0.5196 - val_accuracy: 0.7852\n",
      "Epoch 8/10\n",
      "259/259 [==============================] - 126s 484ms/step - loss: 0.5457 - accuracy: 0.7700 - val_loss: 0.6920 - val_accuracy: 0.7473\n",
      "Epoch 9/10\n",
      "259/259 [==============================] - 128s 491ms/step - loss: 0.5040 - accuracy: 0.7860 - val_loss: 0.5379 - val_accuracy: 0.7806\n",
      "Epoch 10/10\n",
      "259/259 [==============================] - 129s 495ms/step - loss: 0.4791 - accuracy: 0.8001 - val_loss: 0.5050 - val_accuracy: 0.7983\n"
     ]
    }
   ],
   "source": [
    "# Entraînement du modèle\n",
    "history = model_two_layer.fit(\n",
    "  train_set,\n",
    "  validation_data=validation_set,\n",
    "  epochs=epochs,\n",
    "  callbacks=[early_stopping]\n",
    ")"
   ]
  },
  {
   "cell_type": "markdown",
   "id": "a1d6df2a",
   "metadata": {},
   "source": [
    "#### Visualisation de l'Évolution de l'Accuracy d'Entraînement et de Validation par Époque"
   ]
  },
  {
   "cell_type": "code",
   "execution_count": null,
   "id": "8554ba50",
   "metadata": {},
   "outputs": [],
   "source": []
  },
  {
   "cell_type": "code",
   "execution_count": 90,
   "id": "03a59853",
   "metadata": {},
   "outputs": [
    {
     "data": {
      "image/png": "[encoded data removed]",
      "text/plain": [
       "<Figure size 720x360 with 1 Axes>"
      ]
     },
     "metadata": {},
     "output_type": "display_data"
    }
   ],
   "source": [
    "# Extraire les valeurs d'accuracy d'entraînement et de validation de l'historique\n",
    "train_accuracy = history.history['accuracy']\n",
    "val_accuracy = history.history['val_accuracy']\n",
    "\n",
    "# Créer un graphique pour visualiser l'accuracy\n",
    "plt.figure(figsize=(10, 5))\n",
    "plt.plot(range(1, 11), train_accuracy, label='Train Accuracy')  # Remplacez 11 par le nombre total d'epochs\n",
    "plt.plot(range(1, 11), val_accuracy, label='Validation Accuracy')  # Remplacez 11 par le nombre total d'epochs\n",
    "plt.xlabel('Epochs')\n",
    "plt.ylabel('Accuracy')\n",
    "plt.title('Train and Validation Accuracy Over Epochs')\n",
    "plt.legend()\n",
    "plt.grid(True)\n",
    "plt.show()\n"
   ]
  },
  {
   "cell_type": "code",
   "execution_count": null,
   "id": "a3f1aa3d",
   "metadata": {},
   "outputs": [],
   "source": []
  }
 ],
 "metadata": {
  "kernelspec": {
   "display_name": "Python 3 (ipykernel)",
   "language": "python",
   "name": "python3"
  },
  "language_info": {
   "codemirror_mode": {
    "name": "ipython",
    "version": 3
   },
   "file_extension": ".py",
   "mimetype": "text/x-python",
   "name": "python",
   "nbconvert_exporter": "python",
   "pygments_lexer": "ipython3",
   "version": "3.9.12"
  }
 },
 "nbformat": 4,
 "nbformat_minor": 5
}
