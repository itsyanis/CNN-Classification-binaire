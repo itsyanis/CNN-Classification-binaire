{
 "cells": [
  {
   "cell_type": "code",
   "execution_count": 3,
   "id": "66ab7059",
   "metadata": {},
   "outputs": [],
   "source": [
    "dataset_path = \"C:\\\\Users\\\\yanis\\\\OneDrive\\\\Bureau\\\\Liv1_dataset\""
   ]
  },
  {
   "cell_type": "code",
   "execution_count": 4,
   "id": "25c78bd3",
   "metadata": {},
   "outputs": [
    {
     "name": "stdout",
     "output_type": "stream",
     "text": [
      "Le dossier 'Painting' a été lu.\n",
      "Le dossier 'Photo' a été lu.\n",
      "Le dossier 'Schematics' a été lu.\n",
      "Le dossier 'Sketch' a été lu.\n",
      "Le dossier 'Text' a été lu.\n"
     ]
    },
    {
     "data": {
      "text/html": [
       "<div>\n",
       "<style scoped>\n",
       "    .dataframe tbody tr th:only-of-type {\n",
       "        vertical-align: middle;\n",
       "    }\n",
       "\n",
       "    .dataframe tbody tr th {\n",
       "        vertical-align: top;\n",
       "    }\n",
       "\n",
       "    .dataframe thead th {\n",
       "        text-align: right;\n",
       "    }\n",
       "</style>\n",
       "<table border=\"1\" class=\"dataframe\">\n",
       "  <thead>\n",
       "    <tr style=\"text-align: right;\">\n",
       "      <th></th>\n",
       "      <th>FileName</th>\n",
       "      <th>Width</th>\n",
       "      <th>Height</th>\n",
       "      <th>Mode</th>\n",
       "      <th>Category</th>\n",
       "    </tr>\n",
       "  </thead>\n",
       "  <tbody>\n",
       "    <tr>\n",
       "      <th>0</th>\n",
       "      <td>painting_00001.jpg</td>\n",
       "      <td>710.0</td>\n",
       "      <td>768.0</td>\n",
       "      <td>RGB</td>\n",
       "      <td>Painting</td>\n",
       "    </tr>\n",
       "    <tr>\n",
       "      <th>1</th>\n",
       "      <td>painting_00002.jpg</td>\n",
       "      <td>597.0</td>\n",
       "      <td>561.0</td>\n",
       "      <td>RGB</td>\n",
       "      <td>Painting</td>\n",
       "    </tr>\n",
       "    <tr>\n",
       "      <th>2</th>\n",
       "      <td>painting_00003.jpg</td>\n",
       "      <td>750.0</td>\n",
       "      <td>600.0</td>\n",
       "      <td>RGB</td>\n",
       "      <td>Painting</td>\n",
       "    </tr>\n",
       "    <tr>\n",
       "      <th>3</th>\n",
       "      <td>painting_00004.jpg</td>\n",
       "      <td>1000.0</td>\n",
       "      <td>490.0</td>\n",
       "      <td>RGB</td>\n",
       "      <td>Painting</td>\n",
       "    </tr>\n",
       "    <tr>\n",
       "      <th>4</th>\n",
       "      <td>painting_00005.jpg</td>\n",
       "      <td>429.0</td>\n",
       "      <td>570.0</td>\n",
       "      <td>RGB</td>\n",
       "      <td>Painting</td>\n",
       "    </tr>\n",
       "    <tr>\n",
       "      <th>...</th>\n",
       "      <td>...</td>\n",
       "      <td>...</td>\n",
       "      <td>...</td>\n",
       "      <td>...</td>\n",
       "      <td>...</td>\n",
       "    </tr>\n",
       "    <tr>\n",
       "      <th>41394</th>\n",
       "      <td>text_09996.jpg</td>\n",
       "      <td>595.0</td>\n",
       "      <td>842.0</td>\n",
       "      <td>RGB</td>\n",
       "      <td>Text</td>\n",
       "    </tr>\n",
       "    <tr>\n",
       "      <th>41395</th>\n",
       "      <td>text_09997.jpg</td>\n",
       "      <td>595.0</td>\n",
       "      <td>842.0</td>\n",
       "      <td>RGB</td>\n",
       "      <td>Text</td>\n",
       "    </tr>\n",
       "    <tr>\n",
       "      <th>41396</th>\n",
       "      <td>text_09998.jpg</td>\n",
       "      <td>595.0</td>\n",
       "      <td>792.0</td>\n",
       "      <td>RGB</td>\n",
       "      <td>Text</td>\n",
       "    </tr>\n",
       "    <tr>\n",
       "      <th>41397</th>\n",
       "      <td>text_09999.jpg</td>\n",
       "      <td>595.0</td>\n",
       "      <td>792.0</td>\n",
       "      <td>RGB</td>\n",
       "      <td>Text</td>\n",
       "    </tr>\n",
       "    <tr>\n",
       "      <th>41398</th>\n",
       "      <td>text_10000.jpg</td>\n",
       "      <td>595.0</td>\n",
       "      <td>792.0</td>\n",
       "      <td>RGB</td>\n",
       "      <td>Text</td>\n",
       "    </tr>\n",
       "  </tbody>\n",
       "</table>\n",
       "<p>41399 rows × 5 columns</p>\n",
       "</div>"
      ],
      "text/plain": [
       "                 FileName   Width  Height Mode  Category\n",
       "0      painting_00001.jpg   710.0   768.0  RGB  Painting\n",
       "1      painting_00002.jpg   597.0   561.0  RGB  Painting\n",
       "2      painting_00003.jpg   750.0   600.0  RGB  Painting\n",
       "3      painting_00004.jpg  1000.0   490.0  RGB  Painting\n",
       "4      painting_00005.jpg   429.0   570.0  RGB  Painting\n",
       "...                   ...     ...     ...  ...       ...\n",
       "41394      text_09996.jpg   595.0   842.0  RGB      Text\n",
       "41395      text_09997.jpg   595.0   842.0  RGB      Text\n",
       "41396      text_09998.jpg   595.0   792.0  RGB      Text\n",
       "41397      text_09999.jpg   595.0   792.0  RGB      Text\n",
       "41398      text_10000.jpg   595.0   792.0  RGB      Text\n",
       "\n",
       "[41399 rows x 5 columns]"
      ]
     },
     "execution_count": 4,
     "metadata": {},
     "output_type": "execute_result"
    }
   ],
   "source": [
    "import os\n",
    "from PIL import Image\n",
    "import pandas as pd\n",
    "\n",
    "image_data = []\n",
    "\n",
    "for folder in os.listdir(dataset_path):\n",
    "    folder_path = os.path.join(dataset_path, folder)\n",
    "    \n",
    "    for file in os.listdir(folder_path):\n",
    "            file_path = os.path.join(folder_path, file)\n",
    "            if file == \"desktop.ini\":\n",
    "                continue\n",
    "            with Image.open(file_path) as image:\n",
    "                image_data.append({\n",
    "                    \"FileName\": file,\n",
    "                    \"Width\": float(image.size[0]),\n",
    "                    \"Height\": float(image.size[1]),\n",
    "                    \"Mode\": image.mode,\n",
    "                    \"Category\": folder,\n",
    "                })\n",
    "\n",
    "    print(f\"Le dossier '{folder}' a été lu.\")\n",
    "\n",
    "images = pd.DataFrame(image_data)\n",
    "images\n"
   ]
  },
  {
   "cell_type": "code",
   "execution_count": 8,
   "id": "82fd8803",
   "metadata": {},
   "outputs": [
    {
     "name": "stdout",
     "output_type": "stream",
     "text": [
      "Nombre d'images dans Painting : 10000\n",
      "Nombre d'images dans Photo : 9993\n",
      "Nombre d'images dans Schematics : 10001\n",
      "Nombre d'images dans Sketch : 1406\n",
      "Nombre d'images dans Text : 10000\n"
     ]
    }
   ],
   "source": [
    "#Nombre d'image par categorie\n",
    "import os\n",
    "\n",
    "category_names = []\n",
    "image_counts = []\n",
    "\n",
    "dataset_dir = os.listdir(dataset_path)\n",
    "\n",
    "for directory in dataset_dir:\n",
    "    files=os.listdir(os.path.join(dataset_path, directory))\n",
    "    image_count = len(list(files))\n",
    "    category_names.append(directory)\n",
    "    image_counts.append(image_count)\n",
    "    print(\"Nombre d'images dans \"+ directory +\" :\", image_count)"
   ]
  },
  {
   "cell_type": "code",
   "execution_count": 34,
   "id": "6dcb66e8",
   "metadata": {},
   "outputs": [
    {
     "data": {
      "image/png": "[encoded data removed]",
      "text/plain": [
       "<Figure size 864x432 with 1 Axes>"
      ]
     },
     "metadata": {},
     "output_type": "display_data"
    }
   ],
   "source": [
    "import os\n",
    "import matplotlib.pyplot as plt\n",
    "import seaborn as sns\n",
    "\n",
    "sns.set(style=\"whitegrid\")\n",
    "\n",
    "plt.figure(figsize=(12, 6))\n",
    "sns.barplot(x=category_names, y=image_counts, palette=\"husl\")\n",
    "plt.xlabel('Catégorie')\n",
    "plt.ylabel('Nombre d\\'images')\n",
    "plt.title('Nombre d\\'images par catégorie')\n",
    "plt.xticks(rotation=45, ha=\"right\")\n",
    "\n",
    "plt.ylim(min(image_counts) - 300, max(image_counts) + 300)\n",
    "\n",
    "plt.axhline(y=10000, color='red', linestyle='--', label='Max 10,000')\n",
    "\n",
    "plt.tight_layout()\n",
    "plt.legend()\n",
    "plt.show()\n"
   ]
  },
  {
   "cell_type": "code",
   "execution_count": 20,
   "id": "5077a704",
   "metadata": {
    "scrolled": true
   },
   "outputs": [
    {
     "name": "stdout",
     "output_type": "stream",
     "text": [
      "Extensions possibles dans le dataset :\n",
      ".jpg\n",
      ".ini\n",
      ".png\n"
     ]
    }
   ],
   "source": [
    "#Toutes les extension possibles de notre dataset\n",
    "import os\n",
    "\n",
    "extensions = []\n",
    "\n",
    "for folder in os.listdir(dataset_path):\n",
    "    folder_path = os.path.join(dataset_path, folder)\n",
    "\n",
    "    for file in os.listdir(folder_path):\n",
    "        file_path = os.path.join(folder_path, file)\n",
    "        file_extension = os.path.splitext(file)[1]\n",
    "\n",
    "        if file_extension not in extensions:\n",
    "            extensions.append(file_extension)\n",
    "\n",
    "print(\"Extensions possibles dans le dataset :\")\n",
    "for extension in extensions:\n",
    "    print(extension)\n",
    "    \n"
   ]
  },
  {
   "cell_type": "code",
   "execution_count": null,
   "id": "0d31aaaa",
   "metadata": {},
   "outputs": [],
   "source": []
  },
  {
   "cell_type": "code",
   "execution_count": null,
   "id": "21bfb984",
   "metadata": {},
   "outputs": [],
   "source": []
  },
  {
   "cell_type": "code",
   "execution_count": null,
   "id": "d22b8aa0",
   "metadata": {},
   "outputs": [],
   "source": []
  }
 ],
 "metadata": {
  "kernelspec": {
   "display_name": "Python 3 (ipykernel)",
   "language": "python",
   "name": "python3"
  },
  "language_info": {
   "codemirror_mode": {
    "name": "ipython",
    "version": 3
   },
   "file_extension": ".py",
   "mimetype": "text/x-python",
   "name": "python",
   "nbconvert_exporter": "python",
   "pygments_lexer": "ipython3",
   "version": "3.9.12"
  }
 },
 "nbformat": 4,
 "nbformat_minor": 5
}
